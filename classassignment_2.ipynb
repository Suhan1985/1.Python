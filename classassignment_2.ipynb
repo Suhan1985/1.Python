{
 "cells": [
  {
   "cell_type": "code",
   "execution_count": 2,
   "id": "45541bdd",
   "metadata": {},
   "outputs": [],
   "source": [
    "from classassignment import classassignment"
   ]
  },
  {
   "cell_type": "code",
   "execution_count": 3,
   "id": "59c573d1",
   "metadata": {},
   "outputs": [
    {
     "name": "stdout",
     "output_type": "stream",
     "text": [
      "Sub-fields in AI are:\n",
      "Machine Learning\n",
      "Neural Networks\n",
      "Vision\n",
      "Robotics\n",
      "Speech Processing\n",
      "Natural Language Processing\n"
     ]
    }
   ],
   "source": [
    "classassignment.Subfields()"
   ]
  },
  {
   "cell_type": "code",
   "execution_count": 4,
   "id": "3dbaf7d5",
   "metadata": {},
   "outputs": [
    {
     "name": "stdout",
     "output_type": "stream",
     "text": [
      "enter the number: 125\n",
      "125 is an  odd number\n"
     ]
    }
   ],
   "source": [
    "classassignment.OddEven()"
   ]
  },
  {
   "cell_type": "code",
   "execution_count": 5,
   "id": "202b4ca9",
   "metadata": {},
   "outputs": [
    {
     "name": "stdout",
     "output_type": "stream",
     "text": [
      "Male or Female Male\n",
      "enter your age 32\n",
      "Your Gender:  Male\n",
      "Your age  32\n",
      " ELIGIBLE\n"
     ]
    }
   ],
   "source": [
    "classassignment.Elegible()"
   ]
  },
  {
   "cell_type": "code",
   "execution_count": 6,
   "id": "d9e0f53b",
   "metadata": {},
   "outputs": [
    {
     "name": "stdout",
     "output_type": "stream",
     "text": [
      "Subject 1= 98\n",
      "Subject 2= 87\n",
      "Subject 3= 95\n",
      "Subject 4= 95\n",
      "Subject 5= 93\n",
      "Total  468\n",
      "Percentage  93.60000000000001\n"
     ]
    }
   ],
   "source": [
    "classassignment.percentage()"
   ]
  },
  {
   "cell_type": "code",
   "execution_count": 7,
   "id": "8fdbe3df",
   "metadata": {},
   "outputs": [
    {
     "name": "stdout",
     "output_type": "stream",
     "text": [
      "enter the height: 25\n",
      "enter the breath: 22\n",
      "Area formula: (Height * Breath) *1/2\n",
      "Area of triangle :  275.0\n",
      "Height1:10\n",
      "Height2:10\n",
      "Breadth:12\n",
      "Perimeter formula: Height1+Height2+Breadth\n",
      "Perimeter of Triangle:  32.0\n"
     ]
    }
   ],
   "source": [
    "classassignment.triangle()"
   ]
  }
 ],
 "metadata": {
  "kernelspec": {
   "display_name": "Python 3 (ipykernel)",
   "language": "python",
   "name": "python3"
  },
  "language_info": {
   "codemirror_mode": {
    "name": "ipython",
    "version": 3
   },
   "file_extension": ".py",
   "mimetype": "text/x-python",
   "name": "python",
   "nbconvert_exporter": "python",
   "pygments_lexer": "ipython3",
   "version": "3.11.4"
  }
 },
 "nbformat": 4,
 "nbformat_minor": 5
}
