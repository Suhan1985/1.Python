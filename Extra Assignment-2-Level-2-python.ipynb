{
 "cells": [
  {
   "cell_type": "code",
   "execution_count": 5,
   "id": "26063cd7",
   "metadata": {},
   "outputs": [
    {
     "name": "stdout",
     "output_type": "stream",
     "text": [
      "0\n",
      "1\n",
      "2\n",
      "3\n",
      "4\n",
      "5\n",
      "6\n",
      "7\n",
      "8\n",
      "9\n",
      "10\n",
      "11\n",
      "12\n",
      "13\n",
      "14\n",
      "15\n",
      "16\n",
      "17\n",
      "18\n",
      "19\n"
     ]
    }
   ],
   "source": [
    "# print 0 to 20 by using range\n",
    "for num in range(0,20):\n",
    "    print(num)"
   ]
  },
  {
   "cell_type": "code",
   "execution_count": 6,
   "id": "a18819a2",
   "metadata": {},
   "outputs": [
    {
     "name": "stdout",
     "output_type": "stream",
     "text": [
      "10 11 12 13 14 15 16 17 18 19 "
     ]
    }
   ],
   "source": [
    "# print range 10 to 20\n",
    "for num in range(10,20):\n",
    "    print(num, end=\" \") "
   ]
  },
  {
   "cell_type": "code",
   "execution_count": 7,
   "id": "0a7b4148",
   "metadata": {},
   "outputs": [
    {
     "name": "stdout",
     "output_type": "stream",
     "text": [
      "Number of items in List2: 7\n"
     ]
    }
   ],
   "source": [
    "# Print number of items in the list by using 'len'\n",
    "lists=[10, 20, 14, 55, 43, 87, 76]\n",
    "print(\"Number of items in List2:\", len(lists))"
   ]
  },
  {
   "cell_type": "code",
   "execution_count": 1,
   "id": "30aac92d",
   "metadata": {},
   "outputs": [
    {
     "name": "stdout",
     "output_type": "stream",
     "text": [
      "A\n",
      "r\n",
      "t\n",
      "i\n",
      "f\n",
      "i\n",
      "c\n",
      "i\n",
      "a\n",
      "l\n",
      " \n",
      "i\n",
      "n\n",
      "t\n",
      "e\n",
      "l\n",
      "l\n",
      "i\n",
      "g\n",
      "e\n",
      "n\n",
      "c\n",
      "e\n"
     ]
    }
   ],
   "source": [
    "text=\"Artificial intelligence\"\n",
    "for word in text:\n",
    "    print(word)"
   ]
  },
  {
   "cell_type": "code",
   "execution_count": 2,
   "id": "149aa339",
   "metadata": {},
   "outputs": [
    {
     "name": "stdout",
     "output_type": "stream",
     "text": [
      "Your Name suhan\n",
      "enter your age 30\n",
      "your profession teacher\n",
      "-Your Name-  suhan\n",
      "-Your Age- 30\n",
      "-Your profession- teacher\n"
     ]
    }
   ],
   "source": [
    "name=input(\"Your Name \")\n",
    "age= int(input(\"enter your age \"))\n",
    "job=input(\"your profession \")\n",
    "print(\"-Your Name- \",(name))\n",
    "print(\"-Your Age-\",(age))\n",
    "print(\"-Your profession-\",(job))"
   ]
  },
  {
   "cell_type": "code",
   "execution_count": 3,
   "id": "7d51fdf5",
   "metadata": {},
   "outputs": [
    {
     "name": "stdout",
     "output_type": "stream",
     "text": [
      "\n",
      "Tuple with Mixed Datatypes: \n",
      "(1, 'Welcome', 7, 'Hope')\n"
     ]
    }
   ],
   "source": [
    "# Creating a Tuple\n",
    "# with Mixed Datatype\n",
    "Tuple1 = (1, 'Welcome', 7, 'Hope')\n",
    "print(\"\\nTuple with Mixed Datatypes: \")\n",
    "print(Tuple1)"
   ]
  },
  {
   "cell_type": "code",
   "execution_count": 4,
   "id": "0a8a0b23",
   "metadata": {},
   "outputs": [
    {
     "name": "stdout",
     "output_type": "stream",
     "text": [
      "(0, 1, 2, 3, 'python', 'hope')\n"
     ]
    }
   ],
   "source": [
    "# Concatenation of tuples\n",
    "Tuple1 = (0, 1, 2, 3)\n",
    "Tuple2 = ('python', 'hope', )\n",
    "Tuple3 = Tuple1 + Tuple2\n",
    "print(Tuple3)"
   ]
  },
  {
   "cell_type": "code",
   "execution_count": 13,
   "id": "b8d84963",
   "metadata": {},
   "outputs": [
    {
     "name": "stdout",
     "output_type": "stream",
     "text": [
      "19 is odd \n",
      "25 is odd \n",
      "1 is odd \n"
     ]
    }
   ],
   "source": [
    "# Python program to print odd Numbers in a List\n",
    " # list of numbers\n",
    "lists=[20,10,16,19,25,1,276,188]\n",
    "for num in lists:\n",
    "    if (num % 2 != 0):\n",
    "       print(num, \"is odd \")"
   ]
  },
  {
   "cell_type": "code",
   "execution_count": 14,
   "id": "22733b70",
   "metadata": {},
   "outputs": [
    {
     "name": "stdout",
     "output_type": "stream",
     "text": [
      "20 is even \n",
      "10 is even \n",
      "16 is even \n",
      "276 is even \n",
      "188 is even \n"
     ]
    }
   ],
   "source": [
    "# print Even numbers in the list\n",
    "lists=[20,10,16,19,25,1,276,188]\n",
    "for num in lists:\n",
    "    if (num % 2 != 1):\n",
    "       print(num, \"is even \")"
   ]
  }
 ],
 "metadata": {
  "kernelspec": {
   "display_name": "Python 3 (ipykernel)",
   "language": "python",
   "name": "python3"
  },
  "language_info": {
   "codemirror_mode": {
    "name": "ipython",
    "version": 3
   },
   "file_extension": ".py",
   "mimetype": "text/x-python",
   "name": "python",
   "nbconvert_exporter": "python",
   "pygments_lexer": "ipython3",
   "version": "3.11.4"
  }
 },
 "nbformat": 4,
 "nbformat_minor": 5
}
