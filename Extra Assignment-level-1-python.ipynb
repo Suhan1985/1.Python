{
 "cells": [
  {
   "cell_type": "code",
   "execution_count": 3,
   "id": "47dd071d",
   "metadata": {},
   "outputs": [
    {
     "name": "stdout",
     "output_type": "stream",
     "text": [
      "HOPE AI\n"
     ]
    }
   ],
   "source": [
    "#print Statement\n",
    "print(\"HOPE AI\")"
   ]
  },
  {
   "cell_type": "code",
   "execution_count": 2,
   "id": "8d6b65ab",
   "metadata": {},
   "outputs": [
    {
     "name": "stdout",
     "output_type": "stream",
     "text": [
      "Enter your institute name? :HOPE AI\n"
     ]
    }
   ],
   "source": [
    "#buy input\n",
    "institutename=input(\"Enter your institute name? :\" )"
   ]
  },
  {
   "cell_type": "code",
   "execution_count": 1,
   "id": "3033ae2f",
   "metadata": {},
   "outputs": [
    {
     "name": "stdout",
     "output_type": "stream",
     "text": [
      "Enter your name: Raj\n",
      "Enter your age: 15\n",
      "Enter your school name: Guru school\n",
      "Enter your degree: B.E CSE\n"
     ]
    }
   ],
   "source": [
    "#Buy inputs \n",
    "name=input(\"Enter your name: \") #Enter your name: Raj\n",
    "age=int(input(\"Enter your age: \")) #Enter your age: 15\n",
    "schoolname=input(\"Enter your school name: \") #Enter your school name: Guru school\n",
    "degree=input(\"Enter your degree: \") #Enter your drgree: B.E CSE"
   ]
  },
  {
   "cell_type": "code",
   "execution_count": 4,
   "id": "79e80a17",
   "metadata": {},
   "outputs": [
    {
     "name": "stdout",
     "output_type": "stream",
     "text": [
      "a=  43\n",
      "b=  34\n",
      "add=  77\n"
     ]
    }
   ],
   "source": [
    "#add\n",
    "a= 43\n",
    "b= 34\n",
    "add = a+b\n",
    "print(\"a= \",a)\n",
    "print(\"b= \",b)\n",
    "print(\"add= \",add)"
   ]
  },
  {
   "cell_type": "code",
   "execution_count": 6,
   "id": "8c332e8f",
   "metadata": {},
   "outputs": [
    {
     "name": "stdout",
     "output_type": "stream",
     "text": [
      "a=  43\n",
      "b=  34\n",
      "sub=  9\n"
     ]
    }
   ],
   "source": [
    "#subtraction\n",
    "a= 43\n",
    "b= 34\n",
    "sub = a-b\n",
    "print(\"a= \",a)\n",
    "print(\"b= \",b)\n",
    "print(\"sub= \",sub)"
   ]
  },
  {
   "cell_type": "code",
   "execution_count": 7,
   "id": "5b3f2b14",
   "metadata": {},
   "outputs": [
    {
     "name": "stdout",
     "output_type": "stream",
     "text": [
      "a=  63\n",
      "b=  97\n",
      "mul=  6111\n"
     ]
    }
   ],
   "source": [
    "#Multiplication\n",
    "a= 63\n",
    "b= 97\n",
    "mul = a*b\n",
    "print(\"a= \",a)\n",
    "print(\"b= \",b)\n",
    "print(\"mul= \",mul)"
   ]
  },
  {
   "cell_type": "code",
   "execution_count": 11,
   "id": "e392868f",
   "metadata": {},
   "outputs": [
    {
     "name": "stdout",
     "output_type": "stream",
     "text": [
      "a=  76\n",
      "b=  31\n",
      "Div=  2.4516129032258065\n"
     ]
    }
   ],
   "source": [
    "#Division\n",
    "a= 76\n",
    "b= 31\n",
    "Div = a/b\n",
    "print(\"a= \",a)\n",
    "print(\"b= \",b)\n",
    "print(\"Div= \",Div)"
   ]
  },
  {
   "cell_type": "code",
   "execution_count": 12,
   "id": "c6b96248",
   "metadata": {},
   "outputs": [
    {
     "name": "stdout",
     "output_type": "stream",
     "text": [
      "a=  76\n",
      "b=  31\n",
      "Floor div=  2\n"
     ]
    }
   ],
   "source": [
    "#Floor division floor division operator //\n",
    "a= 76\n",
    "b= 31\n",
    "Div = a//b\n",
    "print(\"a= \",a)\n",
    "print(\"b= \",b)\n",
    "print(\"Floor div= \",Div)"
   ]
  },
  {
   "cell_type": "code",
   "execution_count": 13,
   "id": "74197acb",
   "metadata": {},
   "outputs": [
    {
     "name": "stdout",
     "output_type": "stream",
     "text": [
      "a=  76\n",
      "b=  31\n",
      "Modulo =  14\n"
     ]
    }
   ],
   "source": [
    "#Modulo, modulo operator %\n",
    "a= 76\n",
    "b= 31\n",
    "Modulo = a%b\n",
    "print(\"a= \",a)\n",
    "print(\"b= \",b)\n",
    "print(\"Modulo = \",Modulo)"
   ]
  },
  {
   "cell_type": "code",
   "execution_count": 14,
   "id": "aa8ca5c8",
   "metadata": {},
   "outputs": [
    {
     "name": "stdout",
     "output_type": "stream",
     "text": [
      "a=  4\n",
      "b=  4\n",
      "Power =  256\n"
     ]
    }
   ],
   "source": [
    "#Power, power operator  **\n",
    "a= 4\n",
    "b= 4\n",
    "Power = a**b\n",
    "print(\"a= \",a)\n",
    "print(\"b= \",b)\n",
    "print(\"Power = \",Power)"
   ]
  }
 ],
 "metadata": {
  "kernelspec": {
   "display_name": "Python 3 (ipykernel)",
   "language": "python",
   "name": "python3"
  },
  "language_info": {
   "codemirror_mode": {
    "name": "ipython",
    "version": 3
   },
   "file_extension": ".py",
   "mimetype": "text/x-python",
   "name": "python",
   "nbconvert_exporter": "python",
   "pygments_lexer": "ipython3",
   "version": "3.11.4"
  }
 },
 "nbformat": 4,
 "nbformat_minor": 5
}
