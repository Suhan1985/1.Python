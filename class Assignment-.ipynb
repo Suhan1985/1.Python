{
 "cells": [
  {
   "cell_type": "code",
   "execution_count": 2,
   "id": "f2206c56",
   "metadata": {},
   "outputs": [],
   "source": [
    "# Create a class and function, and list out the items in the list"
   ]
  },
  {
   "cell_type": "code",
   "execution_count": 15,
   "id": "4b315e65",
   "metadata": {},
   "outputs": [],
   "source": [
    "class SubfieldsInAI():\n",
    "    \n",
    "    def Subfields():\n",
    "        lists=[\"Machine Learning\",\"Neural Networks\",\"Vision\",\"Robotics\",\"Speech Processing\",\"Natural Language Processing\"]\n",
    "        print (\"Sub-fields in AI are:\")\n",
    "        for ai in lists:\n",
    "            print(ai)\n",
    "    \n",
    "\n",
    "    "
   ]
  },
  {
   "cell_type": "code",
   "execution_count": 16,
   "id": "2f6335ff",
   "metadata": {},
   "outputs": [
    {
     "name": "stdout",
     "output_type": "stream",
     "text": [
      "Sub-fields in AI are:\n",
      "Machine Learning\n",
      "Neural Networks\n",
      "Vision\n",
      "Robotics\n",
      "Speech Processing\n",
      "Natural Language Processing\n"
     ]
    }
   ],
   "source": [
    "SubfieldsInAI.Subfields()"
   ]
  },
  {
   "cell_type": "code",
   "execution_count": null,
   "id": "18ab7425",
   "metadata": {},
   "outputs": [],
   "source": [
    "# Create a function that checks whether the given number is Odd or Even"
   ]
  },
  {
   "cell_type": "code",
   "execution_count": 13,
   "id": "a3cfd87c",
   "metadata": {},
   "outputs": [],
   "source": [
    "class OddEven(): \n",
    "    def OddEven ():\n",
    "        number1=int(input(\"enter the number: \"))\n",
    "        if(number1%2==0):\n",
    "            print(number1,\"is an even number\")\n",
    "        else:\n",
    "             print(number1,\"is an  odd number\")\n",
    "\n",
    "                      "
   ]
  },
  {
   "cell_type": "code",
   "execution_count": 14,
   "id": "2117bf2d",
   "metadata": {},
   "outputs": [
    {
     "name": "stdout",
     "output_type": "stream",
     "text": [
      "enter the number: 52452\n",
      "52452 is an even number\n"
     ]
    }
   ],
   "source": [
    "OddEven.OddEven ()"
   ]
  },
  {
   "cell_type": "code",
   "execution_count": null,
   "id": "13378c49",
   "metadata": {},
   "outputs": [],
   "source": [
    "# Create a function that tells elegibility of marriage for male and female according to their age limit like \n",
    "#21 for male and 18 for female"
   ]
  },
  {
   "cell_type": "code",
   "execution_count": 2,
   "id": "19463e25",
   "metadata": {},
   "outputs": [],
   "source": [
    "class ElegiblityForMarriage():\n",
    "    def Elegible():\n",
    "        gender=input(\"Male or Female \")\n",
    "        age=int(input(\"enter your age \"))\n",
    "        if(gender==\"Male\" and age<21):\n",
    "            print(\"Your Gender: \",gender)\n",
    "            print(\"Your age \",age)\n",
    "            print(\"NOT ELIGIBLE\")\n",
    "        elif(gender==\"Female\" and age<18):\n",
    "            print(\"Your Gender: \",gender)\n",
    "            print(\"Your age \",age)\n",
    "            print(\"NOT ELIGIBLE\")\n",
    "        else:\n",
    "            print(\"Your Gender: \",gender)\n",
    "            print(\"Your age \",age)\n",
    "            print(\" ELIGIBLE\")\n",
    "    \n",
    "    \n",
    "        \n",
    "\n"
   ]
  },
  {
   "cell_type": "code",
   "execution_count": 11,
   "id": "e5bfc875",
   "metadata": {},
   "outputs": [
    {
     "name": "stdout",
     "output_type": "stream",
     "text": [
      "Male or Female Male\n",
      "enter your age 20\n",
      "Your Gender:  Male\n",
      "Your age  20\n",
      "NOT ELIGIBLE\n"
     ]
    }
   ],
   "source": [
    "ElegiblityForMarriage.Elegible()"
   ]
  },
  {
   "cell_type": "code",
   "execution_count": null,
   "id": "43368674",
   "metadata": {},
   "outputs": [],
   "source": [
    "# calculate the percentage of your 10th mark"
   ]
  },
  {
   "cell_type": "code",
   "execution_count": 9,
   "id": "3468fc7c",
   "metadata": {},
   "outputs": [],
   "source": [
    "class FindPercent():  \n",
    "    def percentage():\n",
    "        Total=0\n",
    "        lists=[98,87,95,95,93]\n",
    "        totalsubjects=len(lists)\n",
    "        for marks in lists:\n",
    "            Total=marks+Total\n",
    "        print(\"Subject 1=\",lists[0])\n",
    "        print(\"Subject 2=\",lists[1])\n",
    "        print(\"Subject 3=\",lists[2])\n",
    "        print(\"Subject 4=\",lists[3])\n",
    "        print(\"Subject 5=\",lists[4])\n",
    "        percentage=float(Total/(totalsubjects*(100)))*100\n",
    "        print(\"Total \",Total)\n",
    "        print(\"Percentage \",percentage)  "
   ]
  },
  {
   "cell_type": "code",
   "execution_count": 10,
   "id": "44d4830b",
   "metadata": {},
   "outputs": [
    {
     "name": "stdout",
     "output_type": "stream",
     "text": [
      "Subject 1= 98\n",
      "Subject 2= 87\n",
      "Subject 3= 95\n",
      "Subject 4= 95\n",
      "Subject 5= 93\n",
      "Total  468\n",
      "Percentage  93.60000000000001\n"
     ]
    }
   ],
   "source": [
    "FindPercent.percentage()"
   ]
  },
  {
   "cell_type": "code",
   "execution_count": null,
   "id": "2c75b9bb",
   "metadata": {},
   "outputs": [],
   "source": [
    "#print area and perimeter of triangle using class and functions"
   ]
  },
  {
   "cell_type": "code",
   "execution_count": 7,
   "id": "163f8a36",
   "metadata": {},
   "outputs": [],
   "source": [
    "class triangle():\n",
    "    def triangle():\n",
    "        Height=float(input(\"enter the height: \"))\n",
    "        Breath=float(input(\"enter the breath: \"))\n",
    "        area= (Height * Breath) *1/2\n",
    "        print(\"Area formula: (Height * Breath) *1/2\")\n",
    "        print(\"Area of triangle : \",area)\n",
    "        Height1=float(input(\"Height1:\"))\n",
    "        Height2=float(input(\"Height2:\"))\n",
    "        breadth=float(input(\"Breadth:\"))\n",
    "        perimeter=Height1+Height2+breadth\n",
    "        print(\"Perimeter formula: Height1+Height2+Breadth\")\n",
    "        print(\"Perimeter of Triangle: \",perimeter)\n",
    "    \n",
    " "
   ]
  },
  {
   "cell_type": "code",
   "execution_count": 8,
   "id": "8f8d6a7e",
   "metadata": {},
   "outputs": [
    {
     "name": "stdout",
     "output_type": "stream",
     "text": [
      "enter the height: 32\n",
      "enter the breath: 34\n",
      "Area formula: (Height * Breath) *1/2\n",
      "Area of triangle :  544.0\n",
      "Height1:2\n",
      "Height2:4\n",
      "Breadth:4\n",
      "Perimeter formula: Height1+Height2+Breadth\n",
      "Perimeter of Triangle:  10.0\n"
     ]
    }
   ],
   "source": [
    "triangle.triangle()"
   ]
  }
 ],
 "metadata": {
  "kernelspec": {
   "display_name": "Python 3 (ipykernel)",
   "language": "python",
   "name": "python3"
  },
  "language_info": {
   "codemirror_mode": {
    "name": "ipython",
    "version": 3
   },
   "file_extension": ".py",
   "mimetype": "text/x-python",
   "name": "python",
   "nbconvert_exporter": "python",
   "pygments_lexer": "ipython3",
   "version": "3.11.4"
  }
 },
 "nbformat": 4,
 "nbformat_minor": 5
}
