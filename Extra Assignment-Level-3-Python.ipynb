{
 "cells": [
  {
   "cell_type": "code",
   "execution_count": 3,
   "id": "7735c0eb",
   "metadata": {},
   "outputs": [
    {
     "name": "stdout",
     "output_type": "stream",
     "text": [
      "Value : 10\n",
      "Correct\n"
     ]
    }
   ],
   "source": [
    "Val = int(input(\"Value : \"))\n",
    "if Val == 10:\n",
    "    print(\"Correct\")"
   ]
  },
  {
   "cell_type": "code",
   "execution_count": 6,
   "id": "2e8b6551",
   "metadata": {},
   "outputs": [
    {
     "name": "stdout",
     "output_type": "stream",
     "text": [
      "Enter the password : HOPEAI\n",
      "Your password is correct\n"
     ]
    }
   ],
   "source": [
    "Val=input(\"Enter the password : \")\n",
    "if Val==\"HOPEAI\":\n",
    "    print(\"Your password is correct\")\n",
    "else:\n",
    "    print(\"Your password is incorrect- please check your password \")"
   ]
  },
  {
   "cell_type": "code",
   "execution_count": 7,
   "id": "5eb2acf1",
   "metadata": {},
   "outputs": [
    {
     "name": "stdout",
     "output_type": "stream",
     "text": [
      "enter your age20\n",
      "you are adlut.\n"
     ]
    }
   ],
   "source": [
    "age=int(input(\"enter your age\"))\n",
    "if(age<18):\n",
    "    print(\"you are minor.\")\n",
    "elif(age<35):\n",
    "    print(\"you are adlut.\")\n",
    "elif(age<59):\n",
    "    print(\"you are citizen.\")\n",
    "else:\n",
    "    print(\"you are sinor citizen\")"
   ]
  },
  {
   "cell_type": "code",
   "execution_count": 13,
   "id": "06aea217",
   "metadata": {},
   "outputs": [
    {
     "name": "stdout",
     "output_type": "stream",
     "text": [
      "Enter any number : 5\n",
      "number is possitive\n"
     ]
    }
   ],
   "source": [
    "#find the given number positive or negative\n",
    "Num=int(input(\"Enter any number : \"))\n",
    "if Num>0:\n",
    "    print(\"number is possitive\")\n",
    "else:\n",
    "    print(\"number is negative\")"
   ]
  },
  {
   "cell_type": "code",
   "execution_count": 14,
   "id": "ddab172e",
   "metadata": {},
   "outputs": [
    {
     "name": "stdout",
     "output_type": "stream",
     "text": [
      "Enter a number to check : 21\n",
      "Number not divisible by 5\n"
     ]
    }
   ],
   "source": [
    "# check whether the given number is divisible by 5\n",
    "Num=int(input(\"Enter a number to check : \"))\n",
    "if Num/5==0:\n",
    "    print(\"Number is divisible by 5\")\n",
    "else:\n",
    "    print(\"Number not divisible by 5\")"
   ]
  },
  {
   "cell_type": "code",
   "execution_count": null,
   "id": "ecc9e628",
   "metadata": {},
   "outputs": [],
   "source": []
  }
 ],
 "metadata": {
  "kernelspec": {
   "display_name": "Python 3 (ipykernel)",
   "language": "python",
   "name": "python3"
  },
  "language_info": {
   "codemirror_mode": {
    "name": "ipython",
    "version": 3
   },
   "file_extension": ".py",
   "mimetype": "text/x-python",
   "name": "python",
   "nbconvert_exporter": "python",
   "pygments_lexer": "ipython3",
   "version": "3.11.4"
  }
 },
 "nbformat": 4,
 "nbformat_minor": 5
}
