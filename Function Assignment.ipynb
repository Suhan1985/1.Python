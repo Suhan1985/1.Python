{
 "cells": [
  {
   "cell_type": "code",
   "execution_count": 2,
   "id": "f2206c56",
   "metadata": {},
   "outputs": [],
   "source": [
    "#Function_Assignments"
   ]
  },
  {
   "cell_type": "code",
   "execution_count": 30,
   "id": "4b315e65",
   "metadata": {},
   "outputs": [],
   "source": [
    "lists=[\"Machine Learning\",\"Neural Networks\",\"Vision\",\"Robotics\",\"Speech Processing\",\"Natural Language Processing\"]\n",
    "def Subfields():\n",
    "    print (\"Sub-fields in AI are:\")\n",
    "    for ai in lists:\n",
    "        print(ai)\n",
    "    "
   ]
  },
  {
   "cell_type": "code",
   "execution_count": 31,
   "id": "69e190d9",
   "metadata": {},
   "outputs": [
    {
     "name": "stdout",
     "output_type": "stream",
     "text": [
      "Sub-fields in AI are:\n",
      "Machine Learning\n",
      "Neural Networks\n",
      "Vision\n",
      "Robotics\n",
      "Speech Processing\n",
      "Natural Language Processing\n"
     ]
    }
   ],
   "source": [
    "Subfields()"
   ]
  },
  {
   "cell_type": "code",
   "execution_count": 24,
   "id": "8769a570",
   "metadata": {},
   "outputs": [],
   "source": [
    "def OddEven ():\n",
    "    number1=int(input(\"enter the number: \"))\n",
    "    if(number1%2==0):\n",
    "        print(number1,\"is an even number\")\n",
    "    else:\n",
    "         print(number1,\"is an  odd number\")\n",
    "                      \n",
    "                      "
   ]
  },
  {
   "cell_type": "code",
   "execution_count": 25,
   "id": "2676fbff",
   "metadata": {},
   "outputs": [
    {
     "name": "stdout",
     "output_type": "stream",
     "text": [
      "enter the number: 28\n",
      "28 is an even number\n"
     ]
    }
   ],
   "source": [
    "OddEven ()"
   ]
  },
  {
   "cell_type": "code",
   "execution_count": 43,
   "id": "b646a4b8",
   "metadata": {},
   "outputs": [],
   "source": [
    "def Elegible():\n",
    "    gender=input(\"Male or Female \")\n",
    "    age=int(input(\"enter your age \"))\n",
    "    if(gender==\"Male\" and age<=18):\n",
    "        print(\"Your Gender: \",gender)\n",
    "        print(\"Your age \",age)\n",
    "        print(\"NOT ELIGIBLE\")\n",
    "    elif(gender==\"Female\" and age<=18):\n",
    "        print(\"Your Gender: \",gender)\n",
    "        print(\"Your age \",age)\n",
    "        print(\"NOT ELIGIBLE\")\n",
    "    else:\n",
    "        print(\"Your Gender: \",gender)\n",
    "        print(\"Your age \",age)\n",
    "        print(\" ELIGIBLE\")\n",
    "    \n",
    "    \n",
    "        \n",
    "\n"
   ]
  },
  {
   "cell_type": "code",
   "execution_count": 45,
   "id": "b6f8fc5d",
   "metadata": {},
   "outputs": [
    {
     "name": "stdout",
     "output_type": "stream",
     "text": [
      "Male or Female Male\n",
      "enter your age 25\n",
      "Your Gender:  Male\n",
      "Your age  25\n",
      " ELIGIBLE\n"
     ]
    }
   ],
   "source": [
    "Elegible()"
   ]
  },
  {
   "cell_type": "code",
   "execution_count": 69,
   "id": "02e661c0",
   "metadata": {},
   "outputs": [],
   "source": [
    "def percentage():\n",
    "    Total=0\n",
    "    lists=[23,45,34,23,23]\n",
    "    totalsubjects=len(lists)\n",
    "    for marks in lists:\n",
    "        Total=marks+Total\n",
    "    print(\"Subject 1=\",lists[0])\n",
    "    print(\"Subject 2=\",lists[1])\n",
    "    print(\"Subject 3=\",lists[2])\n",
    "    print(\"Subject 4=\",lists[3])\n",
    "    print(\"Subject 5=\",lists[4])\n",
    "    percentage=float(Total/(totalsubjects*(100)))*100\n",
    "    print(\"Total \",Total)\n",
    "    print(\"Percentage \",percentage)  "
   ]
  },
  {
   "cell_type": "code",
   "execution_count": 70,
   "id": "042dab13",
   "metadata": {},
   "outputs": [
    {
     "name": "stdout",
     "output_type": "stream",
     "text": [
      "Subject 1= 23\n",
      "Subject 2= 45\n",
      "Subject 3= 34\n",
      "Subject 4= 23\n",
      "Subject 5= 23\n",
      "Total  148\n",
      "Percentage  29.599999999999998\n"
     ]
    }
   ],
   "source": [
    "percentage()"
   ]
  },
  {
   "cell_type": "code",
   "execution_count": 88,
   "id": "72861661",
   "metadata": {},
   "outputs": [],
   "source": [
    "def triangle():\n",
    "    Height=float(input(\"enter the height: \"))\n",
    "    Breath=float(input(\"enter the breath: \"))\n",
    "    area= (Height * Breath) *1/2\n",
    "    print(\"Area formula: (Height * Breath) *1/2\")\n",
    "    print(\"Area of triangle : \",area)\n",
    "    Height1=float(input(\"Height1:\"))\n",
    "    Height2=float(input(\"Height2:\"))\n",
    "    breadth=float(input(\"Breadth:\"))\n",
    "    perimeter=Height1+Height2+breadth\n",
    "    print(\"Perimeter formula: Height1+Height2+Breadth\")\n",
    "    print(\"Perimeter of Triangle: \",perimeter)\n",
    "    \n",
    " "
   ]
  },
  {
   "cell_type": "code",
   "execution_count": 89,
   "id": "e39fbf49",
   "metadata": {},
   "outputs": [
    {
     "name": "stdout",
     "output_type": "stream",
     "text": [
      "enter the height: 3\n",
      "enter the breath: 4\n",
      "Area formula: (Height * Breath) *1/2\n",
      "Area of triangle :  6.0\n",
      "Height1:3\n",
      "Height2:4\n",
      "Breadth:45\n",
      "Perimeter formula: Height1+Height2+Breadth\n",
      "Perimeter of Triangle:  52.0\n"
     ]
    }
   ],
   "source": [
    "triangle()"
   ]
  }
 ],
 "metadata": {
  "kernelspec": {
   "display_name": "Python 3 (ipykernel)",
   "language": "python",
   "name": "python3"
  },
  "language_info": {
   "codemirror_mode": {
    "name": "ipython",
    "version": 3
   },
   "file_extension": ".py",
   "mimetype": "text/x-python",
   "name": "python",
   "nbconvert_exporter": "python",
   "pygments_lexer": "ipython3",
   "version": "3.11.4"
  }
 },
 "nbformat": 4,
 "nbformat_minor": 5
}
