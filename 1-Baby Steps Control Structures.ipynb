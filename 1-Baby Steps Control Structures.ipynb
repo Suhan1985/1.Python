{
 "cells": [
  {
   "cell_type": "code",
   "execution_count": 1,
   "id": "df34d136",
   "metadata": {},
   "outputs": [
    {
     "name": "stdout",
     "output_type": "stream",
     "text": [
      "Welcome to Assignment-1\n"
     ]
    }
   ],
   "source": [
    "print(\"Welcome to Assignment-1\")"
   ]
  },
  {
   "cell_type": "code",
   "execution_count": 3,
   "id": "2ef15812",
   "metadata": {},
   "outputs": [
    {
     "name": "stdout",
     "output_type": "stream",
     "text": [
      "Num1 = 10\n",
      "Num2 = 30\n",
      "Add = 40\n"
     ]
    }
   ],
   "source": [
    "Num1=10\n",
    "Num2=30\n",
    "Add=Num1+Num2\n",
    "print(\"Num1 =\",Num1)\n",
    "print(\"Num2 =\",Num2)\n",
    "print(\"Add =\",Add)"
   ]
  },
  {
   "cell_type": "code",
   "execution_count": null,
   "id": "4c1310f3",
   "metadata": {},
   "outputs": [],
   "source": [
    "#calculate BMI"
   ]
  },
  {
   "cell_type": "code",
   "execution_count": 2,
   "id": "7c7735dc",
   "metadata": {},
   "outputs": [
    {
     "name": "stdout",
     "output_type": "stream",
     "text": [
      "Enter the  BMI Index :34\n",
      "Very over weight\n"
     ]
    }
   ],
   "source": [
    "bmi=int(input(\"Enter the  BMI Index :\"))\n",
    "if(bmi<18.5):\n",
    "    print(\"under weight\")\n",
    "elif(bmi<24.9):\n",
    "    print(\"normal\")\n",
    "elif(bmi<29.9):\n",
    "     print(\"over weight\")\n",
    "else:\n",
    "     print(\"Very over weight\")\n"
   ]
  },
  {
   "cell_type": "code",
   "execution_count": 6,
   "id": "fc44ae39",
   "metadata": {},
   "outputs": [],
   "source": [
    "# BMI calculation with the user input"
   ]
  },
  {
   "cell_type": "code",
   "execution_count": 8,
   "id": "82404fef",
   "metadata": {},
   "outputs": [
    {
     "name": "stdout",
     "output_type": "stream",
     "text": [
      "Enter your weight in Kilograms : 68\n",
      "Enter your height in Meter : 1.77\n",
      "normal\n"
     ]
    }
   ],
   "source": [
    "weight=float(input(\"Enter your weight in Kilograms : \"))\n",
    "height=float(input(\"Enter your height in Meter : \"))\n",
    "bmi=weight/(height*2)\n",
    "if(bmi<18.5):\n",
    "    print(\"under weight\")\n",
    "elif(bmi<24.9):\n",
    "    print(\"normal\")\n",
    "elif(bmi<29.9):\n",
    "     print(\"over weight\")\n",
    "else:\n",
    "     print(\"obesity\")\n"
   ]
  }
 ],
 "metadata": {
  "kernelspec": {
   "display_name": "Python 3 (ipykernel)",
   "language": "python",
   "name": "python3"
  },
  "language_info": {
   "codemirror_mode": {
    "name": "ipython",
    "version": 3
   },
   "file_extension": ".py",
   "mimetype": "text/x-python",
   "name": "python",
   "nbconvert_exporter": "python",
   "pygments_lexer": "ipython3",
   "version": "3.11.4"
  }
 },
 "nbformat": 4,
 "nbformat_minor": 5
}
